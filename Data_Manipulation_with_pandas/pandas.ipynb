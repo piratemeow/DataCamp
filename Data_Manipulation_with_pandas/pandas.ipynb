{
 "cells": [
  {
   "cell_type": "code",
   "execution_count": 13,
   "metadata": {},
   "outputs": [],
   "source": [
    "import pandas as pd\n",
    "import numpy as np\n",
    "\n",
    "brics = {'country': ['Brazil', 'Russia', 'India', 'China', 'South Africa'],\n",
    "         'capital': ['Brasilia', 'Moscow', 'New Delhi', 'Beijing', 'Pretoria'],\n",
    "         'area': [8.516, 17.10, 3.286, 9.597, 1.221],\n",
    "         'population': [200.4, 143.5, 1252, 1357, 52.98] }\n",
    "\n",
    "brics = pd.DataFrame(brics)"
   ]
  },
  {
   "cell_type": "code",
   "execution_count": 14,
   "metadata": {},
   "outputs": [
    {
     "name": "stdout",
     "output_type": "stream",
     "text": [
      "        country    capital    area  population\n",
      "0        Brazil   Brasilia   8.516      200.40\n",
      "1        Russia     Moscow  17.100      143.50\n",
      "2         India  New Delhi   3.286     1252.00\n",
      "3         China    Beijing   9.597     1357.00\n",
      "4  South Africa   Pretoria   1.221       52.98\n",
      "        country    capital    area  population\n",
      "0        Brazil   Brasilia   8.516      200.40\n",
      "1        Russia     Moscow  17.100      143.50\n",
      "2         India  New Delhi   3.286     1252.00\n",
      "3         China    Beijing   9.597     1357.00\n",
      "4  South Africa   Pretoria   1.221       52.98\n",
      "<class 'pandas.core.frame.DataFrame'>\n",
      "RangeIndex: 5 entries, 0 to 4\n",
      "Data columns (total 4 columns):\n",
      " #   Column      Non-Null Count  Dtype  \n",
      "---  ------      --------------  -----  \n",
      " 0   country     5 non-null      object \n",
      " 1   capital     5 non-null      object \n",
      " 2   area        5 non-null      float64\n",
      " 3   population  5 non-null      float64\n",
      "dtypes: float64(2), object(2)\n",
      "memory usage: 292.0+ bytes\n",
      "\n",
      " None\n",
      "\n",
      "             area   population\n",
      "count   5.000000     5.000000\n",
      "mean    7.944000   601.176000\n",
      "std     6.200557   645.261454\n",
      "min     1.221000    52.980000\n",
      "25%     3.286000   143.500000\n",
      "50%     8.516000   200.400000\n",
      "75%     9.597000  1252.000000\n",
      "max    17.100000  1357.000000\n"
     ]
    }
   ],
   "source": [
    "print(brics.head()) # first 5 rows of the dataframe\n",
    "print(brics.tail()) # last 5 rows of the dataframe\n",
    "print('\\n',brics.info()) # info about the dataframe\n",
    "print('\\n',brics.describe()) # summary statistics of the dataframe. Only for numeric columns. "
   ]
  },
  {
   "cell_type": "code",
   "execution_count": 15,
   "metadata": {},
   "outputs": [
    {
     "name": "stdout",
     "output_type": "stream",
     "text": [
      "[['Brazil' 'Brasilia' 8.516 200.4]\n",
      " ['Russia' 'Moscow' 17.1 143.5]\n",
      " ['India' 'New Delhi' 3.286 1252.0]\n",
      " ['China' 'Beijing' 9.597 1357.0]\n",
      " ['South Africa' 'Pretoria' 1.221 52.98]]\n",
      "<class 'numpy.ndarray'>\n"
     ]
    }
   ],
   "source": [
    "print(brics.values) # values of the dataframe as a 2d numpy array\n",
    "print(type(brics.values)) # type of the values of the dataframe"
   ]
  },
  {
   "cell_type": "code",
   "execution_count": 16,
   "metadata": {},
   "outputs": [
    {
     "name": "stdout",
     "output_type": "stream",
     "text": [
      "Index(['country', 'capital', 'area', 'population'], dtype='object')\n",
      "RangeIndex(start=0, stop=5, step=1)\n"
     ]
    }
   ],
   "source": [
    "print(brics.columns) # column names of the dataframe\n",
    "print(brics.index) # row labels of the dataframe"
   ]
  },
  {
   "cell_type": "code",
   "execution_count": 17,
   "metadata": {},
   "outputs": [
    {
     "name": "stdout",
     "output_type": "stream",
     "text": [
      "[['Brazil' 'Brasilia' 8.516 200.4]\n",
      " ['Russia' 'Moscow' 17.1 143.5]\n",
      " ['India' 'New Delhi' 3.286 1252.0]\n",
      " ['China' 'Beijing' 9.597 1357.0]\n",
      " ['South Africa' 'Pretoria' 1.221 52.98]]\n"
     ]
    }
   ],
   "source": [
    "arr = np.array(brics)\n",
    "print(arr) # values of the dataframe as a 2d numpy array"
   ]
  },
  {
   "cell_type": "code",
   "execution_count": 28,
   "metadata": {},
   "outputs": [
    {
     "name": "stdout",
     "output_type": "stream",
     "text": [
      "        country    capital    area  population\n",
      "1        Russia     Moscow  17.100      143.50\n",
      "3         China    Beijing   9.597     1357.00\n",
      "0        Brazil   Brasilia   8.516      200.40\n",
      "2         India  New Delhi   3.286     1252.00\n",
      "4  South Africa   Pretoria   1.221       52.98\n",
      "\n",
      "         country    capital    area  population\n",
      "4  South Africa   Pretoria   1.221       52.98\n",
      "2         India  New Delhi   3.286     1252.00\n",
      "0        Brazil   Brasilia   8.516      200.40\n",
      "3         China    Beijing   9.597     1357.00\n",
      "1        Russia     Moscow  17.100      143.50\n"
     ]
    }
   ],
   "source": [
    "# Sorting the rows of a DataFrame\n",
    "\n",
    "brics.sort_values('area',ascending=False,inplace=True) # sort the rows of a DataFrame by a specific column. Ascending atrribute can be omitted as the default order is ascending.\n",
    "                                                        # the inplace attribute is used to sort the dataframe in place. If it is set to False or omitted, the dataframe will not be affected.\n",
    "print(brics)\n",
    "\n",
    "# To sort the dataframe by multiple columns, pass a list of column names to the sort_values() method.\n",
    "brics.sort_values(['area','population'],ascending=[True,True],inplace=True) # sort the rows of a DataFrame by multiple columns. The ascending attribute is a list of booleans where each boolean corresponds to the column in the dataframe.\n",
    "print('\\n',brics)"
   ]
  },
  {
   "cell_type": "code",
   "execution_count": 31,
   "metadata": {},
   "outputs": [
    {
     "name": "stdout",
     "output_type": "stream",
     "text": [
      "4    South Africa\n",
      "2           India\n",
      "0          Brazil\n",
      "3           China\n",
      "1          Russia\n",
      "Name: country, dtype: object\n",
      "        country\n",
      "4  South Africa\n",
      "2         India\n",
      "0        Brazil\n",
      "3         China\n",
      "1        Russia\n",
      "  country   capital    area  population\n",
      "0  Brazil  Brasilia   8.516       200.4\n",
      "3   China   Beijing   9.597      1357.0\n",
      "1  Russia    Moscow  17.100       143.5\n"
     ]
    }
   ],
   "source": [
    "# subsetting dataframes\n",
    "\n",
    "print(brics['country']) # subset a dataframe by selecting a single column. The result is a pandas series.\n",
    "print(brics[['country']]) # subset a dataframe by selecting a single column. The result is a pandas dataframe.\n",
    "\n",
    "print(brics[brics['area'] > 8]) # subset a dataframe by selecting rows where a column has a certain value. The result is a pandas dataframe."
   ]
  },
  {
   "cell_type": "code",
   "execution_count": 33,
   "metadata": {},
   "outputs": [
    {
     "name": "stdout",
     "output_type": "stream",
     "text": [
      "  country    capital    area  population\n",
      "2   India  New Delhi   3.286      1252.0\n",
      "0  Brazil   Brasilia   8.516       200.4\n",
      "1  Russia     Moscow  17.100       143.5\n"
     ]
    }
   ],
   "source": [
    "condition = brics['country'].isin(['Brazil','Russia','India']) # Works like the or operator. The result is a pandas series of booleans.\n",
    "print(brics[condition])"
   ]
  },
  {
   "cell_type": "code",
   "execution_count": null,
   "metadata": {},
   "outputs": [],
   "source": []
  }
 ],
 "metadata": {
  "kernelspec": {
   "display_name": "Python 3",
   "language": "python",
   "name": "python3"
  },
  "language_info": {
   "codemirror_mode": {
    "name": "ipython",
    "version": 3
   },
   "file_extension": ".py",
   "mimetype": "text/x-python",
   "name": "python",
   "nbconvert_exporter": "python",
   "pygments_lexer": "ipython3",
   "version": "3.11.4"
  },
  "orig_nbformat": 4
 },
 "nbformat": 4,
 "nbformat_minor": 2
}
