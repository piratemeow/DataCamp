{
 "cells": [
  {
   "cell_type": "code",
   "execution_count": 2,
   "metadata": {},
   "outputs": [
    {
     "name": "stdout",
     "output_type": "stream",
     "text": [
      "2.0\n",
      "2.0\n"
     ]
    }
   ],
   "source": [
    "import pandas as pd\n",
    "import numpy as np\n",
    "\n",
    "dogs = pd.DataFrame({'name':['Bella','Charlie','Lucy'],'height':[1,2,3],'weight':[40,60,50]})\n",
    "\n",
    "# We can use different methods to get summary statistics\n",
    "\n",
    "#To get the mean of a colunm\n",
    "\n",
    "dogs_height_mean = dogs['height'].mean()\n",
    "print(dogs_height_mean) \n",
    "# to get median \n",
    "dogs_height_median = dogs['height'].median()\n",
    "print(dogs_height_median)\n",
    "# to get the mean of all columns\n",
    "#dogs_mean = dogs.mean() in this case all the column will have to be numeric\n",
    "#print(dogs_mean)\n"
   ]
  },
  {
   "cell_type": "code",
   "execution_count": 3,
   "metadata": {},
   "outputs": [
    {
     "name": "stdout",
     "output_type": "stream",
     "text": [
      "1\n",
      "3\n"
     ]
    }
   ],
   "source": [
    "# TO find minimum and maximum values\n",
    "dogs_height_min = dogs['height'].min()\n",
    "print(dogs_height_min)\n",
    "dogs_height_max = dogs['height'].max()\n",
    "print(dogs_height_max)"
   ]
  },
  {
   "cell_type": "code",
   "execution_count": 4,
   "metadata": {},
   "outputs": [
    {
     "name": "stdout",
     "output_type": "stream",
     "text": [
      "1.5\n",
      "min       1.0\n",
      "max       3.0\n",
      "mean      2.0\n",
      "median    2.0\n",
      "Name: height, dtype: float64\n",
      "1.6\n",
      "     height  weight\n",
      "min       1      40\n",
      "max       3      60\n"
     ]
    },
    {
     "name": "stderr",
     "output_type": "stream",
     "text": [
      "C:\\Users\\imran\\AppData\\Local\\Temp\\ipykernel_2788\\1399043432.py:6: FutureWarning: The provided callable <function mean at 0x00000259B6956FC0> is currently using Series.mean. In a future version of pandas, the provided callable will be used directly. To keep current behavior pass 'mean' instead.\n",
      "  dogs_stats = dogs['height'].agg(['min','max',np.mean,np.median])\n",
      "C:\\Users\\imran\\AppData\\Local\\Temp\\ipykernel_2788\\1399043432.py:6: FutureWarning: The provided callable <function median at 0x00000259B6A8C680> is currently using Series.median. In a future version of pandas, the provided callable will be used directly. To keep current behavior pass 'median' instead.\n",
      "  dogs_stats = dogs['height'].agg(['min','max',np.mean,np.median])\n"
     ]
    }
   ],
   "source": [
    "#to find the percentiles\n",
    "dogs_height_p25 = dogs['height'].quantile(0.25)\n",
    "print(dogs_height_p25)\n",
    "\n",
    "# The .agg method can be used to apply multiple functions at once\n",
    "dogs_stats = dogs['height'].agg(['min','max',np.mean,np.median])\n",
    "print(dogs_stats)\n",
    "# .agg can also be used to provide our own custom functions\n",
    "def per30(column):\n",
    "    return column.quantile(0.3)\n",
    "print(dogs['height'].agg(per30))\n",
    "# it can alse be used in multiple columns at once\n",
    "print(dogs[['height','weight']].agg(['min','max']))"
   ]
  },
  {
   "cell_type": "code",
   "execution_count": 5,
   "metadata": {},
   "outputs": [
    {
     "name": "stdout",
     "output_type": "stream",
     "text": [
      "0    1\n",
      "1    3\n",
      "2    6\n",
      "Name: height, dtype: int64\n",
      "   height\n",
      "0       1\n",
      "1       2\n",
      "2       3\n"
     ]
    }
   ],
   "source": [
    "# To calculate cumulative statistics\n",
    "print(dogs['height'].cumsum()) # cumulative sum like the prefix sum\n",
    "print(dogs[['height']].cummax()) # cumulative max\n"
   ]
  },
  {
   "cell_type": "code",
   "execution_count": 6,
   "metadata": {},
   "outputs": [
    {
     "name": "stdout",
     "output_type": "stream",
     "text": [
      "name             8\n",
      "breed            8\n",
      "color            8\n",
      "height_cm        8\n",
      "weight_kg        8\n",
      "date_of_birth    8\n",
      "dtype: int64\n",
      "name             8\n",
      "breed            8\n",
      "color            8\n",
      "height_cm        8\n",
      "weight_kg        8\n",
      "date_of_birth    8\n",
      "dtype: int64\n",
      "      name        breed  color  height_cm  weight_kg date_of_birth\n",
      "0    Bella     Labrador  Brown         56         24    2013-07-01\n",
      "1  Charlie       Poodle  Black         43         25    2016-09-16\n",
      "2     Lucy    Chow Chow  Brown         46         29    2014-08-25\n",
      "3   Cooper    Schnauzer   Gray         49         20    2011-12-11\n",
      "4      Max     Labrador  Black         59         31    2017-01-20\n",
      "5   Stella    Chihuahua    Tan         18          2    2015-04-20\n",
      "6   Bernie  St. Bernard  White         77         74    2018-02-27\n",
      "7      Max     Labrador   Grey        100        100    2020-12-12\n",
      "\n",
      " 6\n",
      "breed\n",
      "Labrador       3\n",
      "Poodle         1\n",
      "Chow Chow      1\n",
      "Schnauzer      1\n",
      "Chihuahua      1\n",
      "St. Bernard    1\n",
      "Name: count, dtype: int64\n",
      "breed\n",
      "Labrador       0.375\n",
      "Poodle         0.125\n",
      "Chow Chow      0.125\n",
      "Schnauzer      0.125\n",
      "Chihuahua      0.125\n",
      "St. Bernard    0.125\n",
      "Name: proportion, dtype: float64\n"
     ]
    }
   ],
   "source": [
    "# Counting\n",
    "\n",
    "dogs  = pd.DataFrame({'name':['Bella','Charlie','Lucy','Cooper','Max','Stella','Bernie','Max'],'breed':['Labrador','Poodle','Chow Chow','Schnauzer','Labrador','Chihuahua','St. Bernard','Labrador'],'color':['Brown','Black','Brown','Gray','Black','Tan','White','Grey'],'height_cm':[56,43,46,49,59,18,77,100],'weight_kg':[24,25,29,20,31,2,74,100],'date_of_birth':['2013-07-01','2016-09-16','2014-08-25','2011-12-11','2017-01-20','2015-04-20','2018-02-27','2020-12-12']})\n",
    "\n",
    "# To count the number of rows\n",
    "print(dogs.count())\n",
    "# To count the number of non-null values in each column\n",
    "print(dogs.count(axis=0))\n",
    "\n",
    "# To remove the columns with missing values\n",
    "dogs.dropna(axis=1)\n",
    "# To remove the rows with missing values\n",
    "dogs.dropna(axis=0)\n",
    "\n",
    "# To get rid of duplicate rows with the same dog name\n",
    "dogs_unique = dogs.drop_duplicates(subset='name')\n",
    "\n",
    "# To get rid of duplocate rows with the same dog name and height\n",
    "dogs_unique = dogs.drop_duplicates(subset=['name','height_cm'])\n",
    "print(dogs_unique)\n",
    "\n",
    "# To get the number of unique values in a column\n",
    "print('\\n',dogs['breed'].nunique())\n",
    "\n",
    "\n",
    "# To get the number of dogs of each breed\n",
    "dogs_breed_count = dogs_unique['breed'].value_counts()\n",
    "print(dogs_breed_count)\n",
    "\n",
    "# To get the number of dogs of each breed in sorted order\n",
    "dogs_breed_count_sorted = dogs_unique['breed'].value_counts(sort=True)\n",
    "\n",
    "# To get the proportion of dogs of each breed\n",
    "dogs_breed_prop = dogs_unique['breed'].value_counts(normalize=True)\n",
    "print(dogs_breed_prop)"
   ]
  },
  {
   "cell_type": "code",
   "execution_count": 7,
   "metadata": {},
   "outputs": [
    {
     "name": "stdout",
     "output_type": "stream",
     "text": [
      "breed\n",
      "Chihuahua      18.000000\n",
      "Chow Chow      46.000000\n",
      "Labrador       71.666667\n",
      "Poodle         43.000000\n",
      "Schnauzer      49.000000\n",
      "St. Bernard    77.000000\n",
      "Name: height_cm, dtype: float64\n",
      "            height_cm           weight_kg          \n",
      "                  min  max  sum       min  max  sum\n",
      "breed                                              \n",
      "Chihuahua          18   18   18         2    2    2\n",
      "Chow Chow          46   46   46        29   29   29\n",
      "Labrador           56  100  215        24  100  155\n",
      "Poodle             43   43   43        25   25   25\n",
      "Schnauzer          49   49   49        20   20   20\n",
      "St. Bernard        77   77   77        74   74   74\n",
      "\n",
      " color  breed      \n",
      "Black  Labrador        59.0\n",
      "       Poodle          43.0\n",
      "Brown  Chow Chow       46.0\n",
      "       Labrador        56.0\n",
      "Gray   Schnauzer       49.0\n",
      "Grey   Labrador       100.0\n",
      "Tan    Chihuahua       18.0\n",
      "White  St. Bernard     77.0\n",
      "Name: height_cm, dtype: float64\n"
     ]
    }
   ],
   "source": [
    "\n",
    "# Grouping and aggregation\n",
    "\n",
    "\n",
    "# To get the mean height for each dog breed\n",
    "dogs_height_by_breed = dogs.groupby('breed')['height_cm'].mean()\n",
    "print(dogs_height_by_breed)\n",
    "\n",
    "# To get the min max and sum height for each dog breed\n",
    "dogs_min_max_mean = dogs.groupby(\"breed\")[['height_cm','weight_kg']].agg(['min','max','sum'])\n",
    "print(dogs_min_max_mean)\n",
    "\n",
    "# To group by multiple columns\n",
    "dogs_color_breed_height = dogs.groupby(['color','breed'])['height_cm'].mean()\n",
    "print('\\n',dogs_color_breed_height)"
   ]
  },
  {
   "cell_type": "code",
   "execution_count": 10,
   "metadata": {},
   "outputs": [
    {
     "name": "stdout",
     "output_type": "stream",
     "text": [
      "             height_cm\n",
      "breed                 \n",
      "Chihuahua    18.000000\n",
      "Chow Chow    46.000000\n",
      "Labrador     71.666667\n",
      "Poodle       43.000000\n",
      "Schnauzer    49.000000\n",
      "St. Bernard  77.000000\n",
      "             height_cm\n",
      "breed                 \n",
      "Chihuahua           18\n",
      "Chow Chow           46\n",
      "Labrador           100\n",
      "Poodle              43\n",
      "Schnauzer           49\n",
      "St. Bernard         77\n",
      "             height_cm  weight_kg\n",
      "breed                            \n",
      "Chihuahua           18          2\n",
      "Chow Chow           46         29\n",
      "Labrador           100        100\n",
      "Poodle              43         25\n",
      "Schnauzer           49         20\n",
      "St. Bernard         77         74\n",
      "             height_cm  weight_kg\n",
      "breed                            \n",
      "Chihuahua           18          2\n",
      "Chow Chow           46         29\n",
      "Labrador           100        100\n",
      "Poodle              43         25\n",
      "Schnauzer           49         20\n",
      "St. Bernard         77         74\n",
      "color         Black       Brown         Gray   Grey    Tan  White\n",
      "name        Charlie   Max Bella  Lucy Cooper    Max Stella Bernie\n",
      "breed                                                            \n",
      "Chihuahua       0.0   0.0   0.0   0.0    0.0    0.0   18.0    0.0\n",
      "Chow Chow       0.0   0.0   0.0  46.0    0.0    0.0    0.0    0.0\n",
      "Labrador        0.0  59.0  56.0   0.0    0.0  100.0    0.0    0.0\n",
      "Poodle         43.0   0.0   0.0   0.0    0.0    0.0    0.0    0.0\n",
      "Schnauzer       0.0   0.0   0.0   0.0   49.0    0.0    0.0    0.0\n",
      "St. Bernard     0.0   0.0   0.0   0.0    0.0    0.0    0.0   77.0\n",
      "\n",
      " color         Black       Brown         Gray   Grey    Tan  White        All\n",
      "name        Charlie   Max Bella  Lucy Cooper    Max Stella Bernie           \n",
      "breed                                                                       \n",
      "Chihuahua       0.0   0.0   0.0   0.0    0.0    0.0   18.0    0.0  18.000000\n",
      "Chow Chow       0.0   0.0   0.0  46.0    0.0    0.0    0.0    0.0  46.000000\n",
      "Labrador        0.0  59.0  56.0   0.0    0.0  100.0    0.0    0.0  71.666667\n",
      "Poodle         43.0   0.0   0.0   0.0    0.0    0.0    0.0    0.0  43.000000\n",
      "Schnauzer       0.0   0.0   0.0   0.0   49.0    0.0    0.0    0.0  49.000000\n",
      "St. Bernard     0.0   0.0   0.0   0.0    0.0    0.0    0.0   77.0  77.000000\n",
      "All            43.0  59.0  56.0  46.0   49.0  100.0   18.0   77.0  56.000000\n"
     ]
    }
   ],
   "source": [
    "# Pivot tables\n",
    "\n",
    "dogs_pivot = dogs.pivot_table(values='height_cm',index='breed') # by default it will print the mean\n",
    "                                                                # values is the column to be aggregated\n",
    "                                                                # index is the column to group by\n",
    "print(dogs_pivot)\n",
    "\n",
    "# To change the aggregation function\n",
    "dogs_pivot_= dogs.pivot_table(values='height_cm',index='breed',aggfunc='max')\n",
    "print(dogs_pivot_)\n",
    "\n",
    "# To include multiple columns\n",
    "dogs_pivot = dogs.pivot_table(values=['height_cm','weight_kg'],index='breed',aggfunc='max')\n",
    "print(dogs_pivot)\n",
    "\n",
    "# To group by in multiple columns\n",
    "dogs_privot = dogs.pivot_table(values='height_cm',index='breed',aggfunc='mean',columns='color')\n",
    "print(dogs_pivot)\n",
    "\n",
    "# to fill the missing values with 0\n",
    "dogs_pivot = dogs.pivot_table(values='height_cm',index='breed',aggfunc='mean',columns=['color','name'],fill_value=0)\n",
    "print(dogs_pivot)\n",
    "\n",
    "# margins attribute to get the totals (the aggregation func applied) in a column and row\n",
    "dogs_pivot = dogs.pivot_table(values='height_cm',index='breed',aggfunc='mean',columns=['color','name'],fill_value=0,margins='sum')\n",
    "print('\\n',dogs_pivot)\n",
    "\n"
   ]
  },
  {
   "cell_type": "code",
   "execution_count": null,
   "metadata": {},
   "outputs": [],
   "source": []
  }
 ],
 "metadata": {
  "kernelspec": {
   "display_name": "Python 3",
   "language": "python",
   "name": "python3"
  },
  "language_info": {
   "codemirror_mode": {
    "name": "ipython",
    "version": 3
   },
   "file_extension": ".py",
   "mimetype": "text/x-python",
   "name": "python",
   "nbconvert_exporter": "python",
   "pygments_lexer": "ipython3",
   "version": "3.11.4"
  },
  "orig_nbformat": 4
 },
 "nbformat": 4,
 "nbformat_minor": 2
}
