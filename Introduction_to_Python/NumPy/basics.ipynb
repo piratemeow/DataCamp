{
 "cells": [
  {
   "cell_type": "code",
   "execution_count": 2,
   "metadata": {},
   "outputs": [],
   "source": [
    "# NumPy package is a powerful tool in python to do numerical computations on arrays faster\n",
    "# than python lists. It is a package that provide high-performance vector, matrix and higher-dimensional\n",
    "# data structures for python. It is implemented in C and Fortran so when calculations are vectorized\n",
    "# (formulated with vectors and matrices), performance is very good.\n",
    "# NumPy is the fundamental package for scientific computing with Python. It contains among other things:\n",
    "# a powerful N-dimensional array object\n",
    "# sophisticated (broadcasting) functions\n",
    "# tools for integrating C/C++ and Fortran code\n",
    "# useful linear algebra, Fourier transform, and random number capabilities\n",
    "# We can not do operations on individual elements of a list in python without using a loop but in Numpy\n",
    "# we can do operations on whole arrays at once.\n"
   ]
  },
  {
   "cell_type": "code",
   "execution_count": 3,
   "metadata": {},
   "outputs": [],
   "source": [
    "import numpy as np"
   ]
  },
  {
   "cell_type": "code",
   "execution_count": 4,
   "metadata": {},
   "outputs": [
    {
     "name": "stdout",
     "output_type": "stream",
     "text": [
      "[24.93074792 17.5        26.66666667 38.19444444 23.4375    ]\n",
      "<class 'numpy.ndarray'>\n"
     ]
    }
   ],
   "source": [
    "height = np.array([1.9,2,1.5,1.2,1.6])\n",
    "weight = [90,70,60,55,60]\n",
    "weight = np.array(weight)\n",
    "bmi = weight/height**2\n",
    "print(bmi)\n",
    "print(type(bmi))"
   ]
  },
  {
   "cell_type": "code",
   "execution_count": 5,
   "metadata": {},
   "outputs": [],
   "source": [
    "# NumPy arrays can contain elements of different types, including strings, but these will be converted to\n",
    "# another type. For example, if we try to create an array with a string and a number, NumPy will interpret\n",
    "# all elements to be strings.\n",
    "# Which means we can techically assign diffenerent types of values in numpy arrays but it will convert\n",
    "# all the values to the same type.\n",
    "# passing dtype parameter can be used to specify the type of the array elements."
   ]
  },
  {
   "cell_type": "code",
   "execution_count": 6,
   "metadata": {},
   "outputs": [
    {
     "name": "stdout",
     "output_type": "stream",
     "text": [
      "['1' '1.04' '5' 'True']\n",
      "[1.   1.04 5.   1.  ]\n"
     ]
    }
   ],
   "source": [
    "arr = np.array([1,1.04,'5',True])\n",
    "print(arr) # all the values are converted to string\n",
    "\n",
    "# passing dtype parameter can be used to specify the type of the array elements.\n",
    "arr = np.array([1,1.04,'5',True],dtype='float')\n",
    "print(arr) # all the values are converted to float"
   ]
  },
  {
   "cell_type": "code",
   "execution_count": 7,
   "metadata": {},
   "outputs": [
    {
     "name": "stdout",
     "output_type": "stream",
     "text": [
      "[False False False  True  True]\n",
      "[4 5]\n"
     ]
    }
   ],
   "source": [
    "# The elements of the array can be accessed by indexing just like list\n",
    "# There is a cool feature in array. If we want to use a condition to select elements from an array\n",
    "# we can do it like this\n",
    "arr = np.array([1,2,3,4,5])\n",
    "print(arr>3) # prints [False False False  True  True] It is also called the boolean numpy array\n",
    "print(arr[arr>3]) # prints [4,5]"
   ]
  },
  {
   "cell_type": "code",
   "execution_count": 8,
   "metadata": {},
   "outputs": [
    {
     "name": "stdout",
     "output_type": "stream",
     "text": [
      "[[1 2 3]\n",
      " [4 5 6]\n",
      " [7 8 9]]\n",
      "\n",
      "[[1 2]\n",
      " [4 5]]\n"
     ]
    }
   ],
   "source": [
    "arr = np.array([[1,2,3],[4,5,6],[7,8,9]]) #2D array\n",
    "print(arr)\n",
    "print()\n",
    "print(arr[:2,:2]) # prints [[1 2] [4 5]]"
   ]
  },
  {
   "cell_type": "code",
   "execution_count": 9,
   "metadata": {},
   "outputs": [
    {
     "name": "stdout",
     "output_type": "stream",
     "text": [
      "(3, 3) int32\n"
     ]
    }
   ],
   "source": [
    "#shape attribute returns a tuple of integers that indicate the number of elements stored along each dimension\n",
    "# dtype prints the type of the elements in the array\n",
    "print(arr.shape , arr.dtype)"
   ]
  },
  {
   "cell_type": "code",
   "execution_count": 10,
   "metadata": {},
   "outputs": [
    {
     "name": "stdout",
     "output_type": "stream",
     "text": [
      "[[ 2  3  4]\n",
      " [ 5  6  7]\n",
      " [ 8  9 10]]\n"
     ]
    }
   ],
   "source": [
    "mat = np.array([[1,2,3],[4,5,6],[7,8,9]])\n",
    "# mat = mat + np.array([1,1,1],[1,1,1]) this will cause an error because the shapes are not same\n",
    "# mat = mat + np.array([1,2]) this will cause an error because the shapes are not same\n",
    "mat = mat +np.array([1,1,1]) # this will work because the shape is same. output [[2 3 4] [5 6 7] [8 9 10]] \n",
    "print(mat)"
   ]
  },
  {
   "cell_type": "code",
   "execution_count": 11,
   "metadata": {},
   "outputs": [
    {
     "name": "stdout",
     "output_type": "stream",
     "text": [
      "5.0\n",
      "5.0\n",
      "2.581988897471611\n",
      "6.666666666666667\n",
      "45\n",
      "9\n",
      "1\n",
      "8\n",
      "0\n",
      "[2.71828183e+00 7.38905610e+00 2.00855369e+01 5.45981500e+01\n",
      " 1.48413159e+02 4.03428793e+02 1.09663316e+03 2.98095799e+03\n",
      " 8.10308393e+03]\n",
      "[0.         0.69314718 1.09861229 1.38629436 1.60943791 1.79175947\n",
      " 1.94591015 2.07944154 2.19722458]\n",
      "[0.         0.30103    0.47712125 0.60205999 0.69897    0.77815125\n",
      " 0.84509804 0.90308999 0.95424251]\n"
     ]
    }
   ],
   "source": [
    "arr = np.array([1,2,3,4,5,6,7,8,9])\n",
    "print(np.mean(arr)) # prints the mean of the array\n",
    "print(np.median(arr)) # printts the median of the array\n",
    "print(np.std(arr)) # prints the standard deviation of the array \n",
    "print(np.var(arr)) # prints the variance of the array\n",
    "print(np.sum(arr)) # prints the sum of the array\n",
    "print(np.max(arr)) # prints the maximum value of the array\n",
    "print(np.min(arr)) # prints the minimum value of the array\n",
    "print(np.argmax(arr)) # prints the index of the maximum value of the array\n",
    "print(np.argmin(arr)) # prints the index of the minimum value of the array\n",
    "print(np.exp(arr)) # prints the exponential of the array\n",
    "print(np.log(arr)) # prints the logarithm of the array\n",
    "print(np.log10(arr)) # prints the logarithm base 10 of the array\n"
   ]
  },
  {
   "cell_type": "markdown",
   "metadata": {},
   "source": [
    "Problem: Make two arrays department and budget. Find the budgets of the department 'CSE'. Find the department with less budget than 'CSE'"
   ]
  },
  {
   "cell_type": "code",
   "execution_count": 12,
   "metadata": {},
   "outputs": [
    {
     "name": "stdout",
     "output_type": "stream",
     "text": [
      "[ True False False False False False]\n",
      "[500]\n",
      "['ME' 'BME']\n"
     ]
    }
   ],
   "source": [
    "dept = np.array(['CSE','EEE','IIT','ME','BME','CE'])\n",
    "budget = np.array([500,500,3000,200,100,700])\n",
    "cse_bud = dept=='CSE'\n",
    "print(cse_bud)\n",
    "print(budget[dept=='CSE']) # Find the budgets of the department 'CSE'\n",
    "print(dept[budget<budget[dept=='CSE']]) # Find the department with less budget than 'CSE'\n",
    "\n"
   ]
  },
  {
   "cell_type": "code",
   "execution_count": 13,
   "metadata": {},
   "outputs": [
    {
     "name": "stdout",
     "output_type": "stream",
     "text": [
      "[4 5 6]\n",
      "[4 5 6]\n"
     ]
    }
   ],
   "source": [
    "# Using boolean operators in numpy arrays\n",
    "# We can use boolean operators like and, or, not in numpy arrays\n",
    "# We can use & for and, | for or and ~ for not\n",
    "# We can use these operators to select elements from an array\n",
    "# For example, if we want to select elements from an array that are greater than 3 and less than 7\n",
    "\n",
    "arr = np.array([1,2,3,4,5,6,7,8,9])\n",
    "print(arr[(arr>3) & (arr<7)]) # prints [4 5 6]\n",
    "# There is another way to do this\n",
    "# & , | , ~ are bitwise operators in python. So we can use np.logical_and() , np.logical_or() , np.logical_not()\n",
    "\n",
    "print(arr[np.logical_and(arr>3,arr<7)]) # prints [4 5 6]"
   ]
  },
  {
   "cell_type": "code",
   "execution_count": 14,
   "metadata": {},
   "outputs": [
    {
     "name": "stdout",
     "output_type": "stream",
     "text": [
      "[False False False False False False False False False]\n"
     ]
    }
   ],
   "source": [
    "print(np.logical_not(arr))"
   ]
  },
  {
   "cell_type": "code",
   "execution_count": 24,
   "metadata": {},
   "outputs": [
    {
     "name": "stdout",
     "output_type": "stream",
     "text": [
      "24.930747922437675\n",
      "17.5\n",
      "26.666666666666668\n",
      "38.19444444444444\n",
      "23.437499999999996\n",
      "\n",
      "[1 2 3]\n",
      "[4 5 6]\n",
      "[7 8 9]\n",
      "1\n",
      "2\n",
      "3\n",
      "4\n",
      "5\n",
      "6\n",
      "7\n",
      "8\n",
      "9\n"
     ]
    }
   ],
   "source": [
    "for b in bmi:\n",
    "    print(b)\n",
    "\n",
    "np_2d = np.array([[1,2,3],[4,5,6],[7,8,9]])\n",
    "print()\n",
    "for b in np_2d:\n",
    "    print(b)\n",
    "\n",
    "for b in np.nditer(np_2d): # prints the elements of the array in a single line\n",
    "    print(b)"
   ]
  },
  {
   "cell_type": "code",
   "execution_count": null,
   "metadata": {},
   "outputs": [],
   "source": []
  },
  {
   "cell_type": "code",
   "execution_count": null,
   "metadata": {},
   "outputs": [],
   "source": []
  }
 ],
 "metadata": {
  "kernelspec": {
   "display_name": "Python 3",
   "language": "python",
   "name": "python3"
  },
  "language_info": {
   "codemirror_mode": {
    "name": "ipython",
    "version": 3
   },
   "file_extension": ".py",
   "mimetype": "text/x-python",
   "name": "python",
   "nbconvert_exporter": "python",
   "pygments_lexer": "ipython3",
   "version": "3.11.4"
  },
  "orig_nbformat": 4
 },
 "nbformat": 4,
 "nbformat_minor": 2
}
