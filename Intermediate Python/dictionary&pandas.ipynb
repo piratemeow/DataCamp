{
 "cells": [
  {
   "cell_type": "code",
   "execution_count": 7,
   "metadata": {},
   "outputs": [
    {
     "name": "stdout",
     "output_type": "stream",
     "text": [
      "{'Brazil': 200.4, 'Russia': 143.5, 'India': 1252, 'China': 1357, 'South Africa': 52.98}\n"
     ]
    }
   ],
   "source": [
    "country = ['Brazil', 'Russia', 'India', 'China', 'South Africa']\n",
    "pop = [200.4, 143.5, 1252, 1357, 52.98]\n",
    "dic = dict(zip(country, pop)) # zip() function returns a zip object, which is an iterator of tuples where the first item in each passed iterator is paired together, and then the second item in each passed iterator are paired together etc.\n",
    "                                # Basically it can make a dictionary from two lists\n",
    "print(dic)\n",
    "# Dictionaries are mutable but their key has to be immutable\n",
    "# The key of a dictionary can be any immutable type, such as a string, number, or tuple. But it can not be a mutable object like a list, set, or dictionary."
   ]
  },
  {
   "cell_type": "code",
   "execution_count": 11,
   "metadata": {},
   "outputs": [
    {
     "name": "stdout",
     "output_type": "stream",
     "text": [
      "{1: 4, 4: 5}\n",
      "dict_keys([1, 4])\n",
      "dict_values([4, 5])\n"
     ]
    }
   ],
   "source": [
    "dic2 = {1:2,1:3,4:5,1:4} # if there are two same keys, the latter one will be used\n",
    "# Dictionarys are always sorted by keys\n",
    "print(dic2)\n",
    "print(dic2.keys()) # return a list of keys\n",
    "print(dic2.values()) # return a list of values"
   ]
  },
  {
   "cell_type": "markdown",
   "metadata": {},
   "source": [
    "dic2 = dic2 + {1:5}  can not add a new key-value pair to a dictionary like this\n",
    "we can add it like dic2[1]=5"
   ]
  },
  {
   "cell_type": "code",
   "execution_count": 14,
   "metadata": {},
   "outputs": [
    {
     "name": "stdout",
     "output_type": "stream",
     "text": [
      "True\n",
      "{'Brazil': 200.4, 'Russia': 143.5, 'India': 1252, 'China': 1357, 'South Africa': 52.98}\n"
     ]
    }
   ],
   "source": [
    "dic['USA'] = 500 # add a new key-value pair\n",
    "print('USA' in dic) # check if a key is in the dictionary returns a boolean\n",
    "\n",
    "del dic['USA'] # delete a key-value pair\n",
    "print(dic)"
   ]
  },
  {
   "cell_type": "code",
   "execution_count": null,
   "metadata": {},
   "outputs": [],
   "source": [
    "# Dictionary of dictionaries\n",
    "europe = { 'spain': { 'capital':'madrid', 'population':46.77 },\n",
    "           'france': { 'capital':'paris', 'population':66.03 },\n",
    "           'germany': { 'capital':'berlin', 'population':80.62 },\n",
    "           'norway': { 'capital':'oslo', 'population':5.084 } }\n",
    "\n",
    "\n",
    "# Print out the capital of France\n",
    "\n",
    "print(europe['france']['capital'])\n",
    "# Create sub-dictionary data\n",
    "data = {'capital':'rome','population':59.83}\n",
    "\n",
    "# Add data to europe under key 'italy'\n",
    "europe['italy']=data\n",
    "\n",
    "# Print europe\n",
    "print(europe)\n"
   ]
  },
  {
   "cell_type": "markdown",
   "metadata": {},
   "source": [
    "Pandas is a package which is build on NumPy for more advanced data handling\n",
    "It is used for tabular data representation and working\n",
    "It used DataFrame data stucture to store data in tabular form\n"
   ]
  },
  {
   "cell_type": "code",
   "execution_count": 16,
   "metadata": {},
   "outputs": [],
   "source": [
    "import pandas as pd"
   ]
  },
  {
   "cell_type": "code",
   "execution_count": 20,
   "metadata": {},
   "outputs": [
    {
     "name": "stdout",
     "output_type": "stream",
     "text": [
      "        country    capital    area  population\n",
      "0        Brazil   Brasilia   8.516      200.40\n",
      "1        Russia     Moscow  17.100      143.50\n",
      "2         India  New Delhi   3.286     1252.00\n",
      "3         China    Beijing   9.597     1357.00\n",
      "4  South Africa   Pretoria   1.221       52.98\n",
      "\n",
      "          country    capital    area  population\n",
      "BR        Brazil   Brasilia   8.516      200.40\n",
      "RU        Russia     Moscow  17.100      143.50\n",
      "IN         India  New Delhi   3.286     1252.00\n",
      "CH         China    Beijing   9.597     1357.00\n",
      "SA  South Africa   Pretoria   1.221       52.98\n"
     ]
    }
   ],
   "source": [
    "brics = {'country': ['Brazil', 'Russia', 'India', 'China', 'South Africa'],\n",
    "         'capital': ['Brasilia', 'Moscow', 'New Delhi', 'Beijing', 'Pretoria'],\n",
    "         'area': [8.516, 17.10, 3.286, 9.597, 1.221],\n",
    "         'population': [200.4, 143.5, 1252, 1357, 52.98] }\n",
    "brics = pd.DataFrame(brics) # create a dataframe from a dictionary. It also lables the rows with index starting rom 0\n",
    "print(brics) # print the dataframe\n",
    "brics.index = ['BR', 'RU', 'IN', 'CH', 'SA'] # change the index\n",
    "print('\\n',brics)"
   ]
  },
  {
   "cell_type": "markdown",
   "metadata": {},
   "source": [
    "csv files can also be imported using pandas to DataFrame\n",
    "This is a very useful feature of pandas"
   ]
  },
  {
   "cell_type": "code",
   "execution_count": 25,
   "metadata": {},
   "outputs": [
    {
     "name": "stdout",
     "output_type": "stream",
     "text": [
      "  country   capital\n",
      "1     BRA  brazilia\n",
      "2     RUS       NaN\n",
      "3     IND       NaN\n",
      "4     CHI       NaN\n",
      "5     SAF       NaN\n"
     ]
    }
   ],
   "source": [
    "experiment = pd.DataFrame({'country':{1:'BRA',2:'RUS',3:'IND',4:'CHI',5:'SAF'},'capital':{1:'brazilia'}}) # create a dataframe from a dictionary of dictionaries\n",
    "print(experiment)"
   ]
  },
  {
   "cell_type": "code",
   "execution_count": 31,
   "metadata": {},
   "outputs": [
    {
     "name": "stdout",
     "output_type": "stream",
     "text": [
      "  country_ab  cars_per_cap        country  drives_right\n",
      "0         US           809  United States          True\n",
      "1        AUS           731      Australia         False\n",
      "2        JAP           588          Japan         False\n",
      "3         IN            18          India         False\n",
      "4         RU           200         Russia          True\n",
      "5        MOR            70        Morocco          True\n",
      "6         EG            45          Egypt          True\n",
      "\n",
      "             cars_per_cap        country  drives_right\n",
      "country_ab                                           \n",
      "US                   809  United States          True\n",
      "AUS                  731      Australia         False\n",
      "JAP                  588          Japan         False\n",
      "IN                    18          India         False\n",
      "RU                   200         Russia          True\n",
      "MOR                   70        Morocco          True\n",
      "EG                    45          Egypt          True\n"
     ]
    }
   ],
   "source": [
    "# Creating a dataframe from a csv file\n",
    "\n",
    "cars = pd.read_csv(\"C:\\DataCamp\\Intermediate Python\\cars.csv\") # read a csv file and create a dataframe\n",
    "print(cars)\n",
    "cars = pd.read_csv(\"C:\\DataCamp\\Intermediate Python\\cars.csv\", index_col = 0) # set the first column as index\n",
    "print('\\n',cars)"
   ]
  },
  {
   "cell_type": "code",
   "execution_count": null,
   "metadata": {},
   "outputs": [],
   "source": []
  }
 ],
 "metadata": {
  "kernelspec": {
   "display_name": "Python 3",
   "language": "python",
   "name": "python3"
  },
  "language_info": {
   "codemirror_mode": {
    "name": "ipython",
    "version": 3
   },
   "file_extension": ".py",
   "mimetype": "text/x-python",
   "name": "python",
   "nbconvert_exporter": "python",
   "pygments_lexer": "ipython3",
   "version": "3.11.4"
  },
  "orig_nbformat": 4
 },
 "nbformat": 4,
 "nbformat_minor": 2
}
